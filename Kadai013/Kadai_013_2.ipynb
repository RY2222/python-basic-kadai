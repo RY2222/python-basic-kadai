{
  "nbformat": 4,
  "nbformat_minor": 0,
  "metadata": {
    "colab": {
      "provenance": []
    },
    "kernelspec": {
      "name": "python3",
      "display_name": "Python 3"
    },
    "language_info": {
      "name": "python"
    }
  },
  "cells": [
    {
      "cell_type": "code",
      "execution_count": 1,
      "metadata": {
        "colab": {
          "base_uri": "https://localhost:8080/"
        },
        "id": "xXSsIOxlBNO8",
        "outputId": "9b9ac618-2ff3-4ad3-acc7-5a0e803baaf8"
      },
      "outputs": [
        {
          "output_type": "stream",
          "name": "stdout",
          "text": [
            "合計金額は1100.0円\n"
          ]
        }
      ],
      "source": [
        "def calculate_total(price,tax_rate):\n",
        "\n",
        "  total_price = price  * (1 + tax_rate)\n",
        "  return total_price\n",
        "\n",
        "total_price = calculate_total(1000,0.1)\n",
        "print(f\"合計金額は{total_price}円\")"
      ]
    }
  ]
}