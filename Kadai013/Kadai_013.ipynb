{
  "nbformat": 4,
  "nbformat_minor": 0,
  "metadata": {
    "colab": {
      "provenance": []
    },
    "kernelspec": {
      "name": "python3",
      "display_name": "Python 3"
    },
    "language_info": {
      "name": "python"
    }
  },
  "cells": [
    {
      "cell_type": "code",
      "execution_count": 8,
      "metadata": {
        "colab": {
          "base_uri": "https://localhost:8080/"
        },
        "id": "xXSsIOxlBNO8",
        "outputId": "a1e67a29-eed9-47c5-e33d-98c85ef8a6c4"
      },
      "outputs": [
        {
          "output_type": "stream",
          "name": "stdout",
          "text": [
            "1100.0円\n"
          ]
        }
      ],
      "source": [
        "def calculate_total(price,tax_rate):\n",
        "\n",
        "  total = price  * (1 + tax_rate)\n",
        "  print(f\"{total}円\")\n",
        "\n",
        "calculate_total(1000,0.1)\n"
      ]
    }
  ]
}