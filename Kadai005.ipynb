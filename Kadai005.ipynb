{
  "nbformat": 4,
  "nbformat_minor": 0,
  "metadata": {
    "colab": {
      "provenance": []
    },
    "kernelspec": {
      "name": "python3",
      "display_name": "Python 3"
    },
    "language_info": {
      "name": "python"
    }
  },
  "cells": [
    {
      "cell_type": "code",
      "execution_count": 1,
      "metadata": {
        "colab": {
          "base_uri": "https://localhost:8080/"
        },
        "id": "oP79I3m5Ipmg",
        "outputId": "7f3575d4-1086-4165-858e-a8227cee6b62"
      },
      "outputs": [
        {
          "output_type": "stream",
          "name": "stdout",
          "text": [
            "台形の面積は75.0㎠です。\n"
          ]
        }
      ],
      "source": [
        "top = 10\n",
        "bottom = 20\n",
        "hight = 5\n",
        "\n",
        "torapezoid_area = (top + bottom) * hight / 2\n",
        "\n",
        "print(f\"台形の面積は{torapezoid_area}㎠です。\")"
      ]
    },
    {
      "cell_type": "code",
      "source": [],
      "metadata": {
        "id": "lGF27TRrlRIW"
      },
      "execution_count": null,
      "outputs": []
    }
  ]
}