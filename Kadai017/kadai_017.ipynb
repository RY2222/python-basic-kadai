{
  "nbformat": 4,
  "nbformat_minor": 0,
  "metadata": {
    "colab": {
      "provenance": []
    },
    "kernelspec": {
      "name": "python3",
      "display_name": "Python 3"
    },
    "language_info": {
      "name": "python"
    }
  },
  "cells": [
    {
      "cell_type": "code",
      "execution_count": 2,
      "metadata": {
        "colab": {
          "base_uri": "https://localhost:8080/"
        },
        "id": "oXK40oNwGood",
        "outputId": "8fb75ddb-fc5b-48ba-e1d9-a1bd18f5a333"
      },
      "outputs": [
        {
          "output_type": "stream",
          "name": "stdout",
          "text": [
            "侍太郎さんは大人です。\n",
            "侍次郎さんは大人です。\n",
            "侍花子さんは大人ではありません。\n"
          ]
        }
      ],
      "source": [
        "class Human:\n",
        "    def __init__(self,name,age):\n",
        "      self.name = name\n",
        "      self.age = age\n",
        "\n",
        "    # メソッドを定義する\n",
        "    def check_adult(self):\n",
        "        if self.age >= 20:\n",
        "            print(f\"{self.name}さんは大人です。\")\n",
        "        else:\n",
        "            print(f\"{self.name}さんは大人ではありません。\")\n",
        "\n",
        "#Humanクラスのインスタンスを生成してリストに追加\n",
        "humans_list = [\n",
        "    Human(\"侍太郎\",25),\n",
        "    Human(\"侍次郎\",30),\n",
        "    Human(\"侍花子\",18)\n",
        "]\n",
        "\n",
        "#リストの要素数だけcheck_adultメソッドを呼び出す\n",
        "for human in humans_list:\n",
        "    human.check_adult()\n",
        "\n"
      ]
    }
  ]
}